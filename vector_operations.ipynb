{
  "nbformat": 4,
  "nbformat_minor": 0,
  "metadata": {
    "colab": {
      "provenance": [],
      "authorship_tag": "ABX9TyN8P6f9lxL6sIyBMoafkUCZ",
      "include_colab_link": true
    },
    "kernelspec": {
      "name": "python3",
      "display_name": "Python 3"
    },
    "language_info": {
      "name": "python"
    }
  },
  "cells": [
    {
      "cell_type": "markdown",
      "metadata": {
        "id": "view-in-github",
        "colab_type": "text"
      },
      "source": [
        "<a href=\"https://colab.research.google.com/github/maliha-usui/My-ML-Journey/blob/main/vector_operations.ipynb\" target=\"_parent\"><img src=\"https://colab.research.google.com/assets/colab-badge.svg\" alt=\"Open In Colab\"/></a>"
      ]
    },
    {
      "cell_type": "code",
      "execution_count": 1,
      "metadata": {
        "colab": {
          "base_uri": "https://localhost:8080/"
        },
        "id": "zYXZLLEHOare",
        "outputId": "92e9c402-3491-49eb-e6cd-5f9efc666fea"
      },
      "outputs": [
        {
          "output_type": "stream",
          "name": "stdout",
          "text": [
            "Mounted at /content/drive\n"
          ]
        }
      ],
      "source": [
        "from google.colab import drive\n",
        "drive.mount('/content/drive')\n"
      ]
    },
    {
      "cell_type": "markdown",
      "source": [],
      "metadata": {
        "id": "7mwckAh7WyiS"
      }
    },
    {
      "cell_type": "code",
      "source": [
        "# ✅ 1️⃣ Vector Addition: a+b = [a1+b1, a2+b2, ..., an+bn]\n",
        "# 📌 Why Important?\n",
        "#          --> Used in Gradient Updates in ML models.\n",
        "import numpy as np\n",
        "\n",
        "# a nd b are two arrays\n",
        "a = np.array([67, 80, 10])\n",
        "b = np.array([99, 1, 30])\n",
        "\n",
        "# Vector addition\n",
        "Vec_add = a + b\n",
        "print(\"Vector Addition: \", Vec_add)"
      ],
      "metadata": {
        "colab": {
          "base_uri": "https://localhost:8080/"
        },
        "id": "bEaoURJkWhR1",
        "outputId": "476c14f7-9688-4d88-e523-b0c2caff1e13"
      },
      "execution_count": 14,
      "outputs": [
        {
          "output_type": "stream",
          "name": "stdout",
          "text": [
            "Vector Addition:  [166  81  40]\n"
          ]
        }
      ]
    },
    {
      "cell_type": "code",
      "source": [],
      "metadata": {
        "id": "lQB_hnzwYn9Y"
      },
      "execution_count": null,
      "outputs": []
    }
  ]
}