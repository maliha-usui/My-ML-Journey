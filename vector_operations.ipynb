{
  "nbformat": 4,
  "nbformat_minor": 0,
  "metadata": {
    "colab": {
      "provenance": [],
      "authorship_tag": "ABX9TyO5RibwL7o7BHCOgVf80YUu",
      "include_colab_link": true
    },
    "kernelspec": {
      "name": "python3",
      "display_name": "Python 3"
    },
    "language_info": {
      "name": "python"
    }
  },
  "cells": [
    {
      "cell_type": "markdown",
      "metadata": {
        "id": "view-in-github",
        "colab_type": "text"
      },
      "source": [
        "<a href=\"https://colab.research.google.com/github/maliha-usui/My-ML-Journey/blob/main/vector_operations.ipynb\" target=\"_parent\"><img src=\"https://colab.research.google.com/assets/colab-badge.svg\" alt=\"Open In Colab\"/></a>"
      ]
    },
    {
      "cell_type": "code",
      "execution_count": 1,
      "metadata": {
        "colab": {
          "base_uri": "https://localhost:8080/"
        },
        "id": "zYXZLLEHOare",
        "outputId": "92e9c402-3491-49eb-e6cd-5f9efc666fea"
      },
      "outputs": [
        {
          "output_type": "stream",
          "name": "stdout",
          "text": [
            "Mounted at /content/drive\n"
          ]
        }
      ],
      "source": [
        "from google.colab import drive\n",
        "drive.mount('/content/drive')\n"
      ]
    },
    {
      "cell_type": "markdown",
      "source": [],
      "metadata": {
        "id": "7mwckAh7WyiS"
      }
    },
    {
      "cell_type": "code",
      "source": [
        "# ✅ 1️⃣ Vector Addition: a+b = [a1+b1, a2+b2, ..., an+bn]\n",
        "# 📌 Why Important?\n",
        "#          --> Used in Gradient Updates in ML models.\n",
        "import numpy as np\n",
        "\n",
        "# a nd b are two arrays\n",
        "a = np.array([67, 80, 10])\n",
        "b = np.array([99, 1, 30])\n",
        "\n",
        "# Vector addition\n",
        "Vec_add = a + b\n",
        "print(\"Vector Addition: \", Vec_add)"
      ],
      "metadata": {
        "colab": {
          "base_uri": "https://localhost:8080/"
        },
        "id": "bEaoURJkWhR1",
        "outputId": "476c14f7-9688-4d88-e523-b0c2caff1e13"
      },
      "execution_count": 14,
      "outputs": [
        {
          "output_type": "stream",
          "name": "stdout",
          "text": [
            "Vector Addition:  [166  81  40]\n"
          ]
        }
      ]
    },
    {
      "cell_type": "code",
      "source": [
        "# ✅ 2️⃣ Scalar-Vector Multiplication: c×a = [c⋅a1, c⋅a2 ..., c⋅an]\n",
        "# 📌 Why Important?\n",
        "#           --> Used in Feature Scaling & Normalization in ML.\n",
        "\n",
        "scaler = 9\n",
        "Scaler_Vec = scaler * a\n",
        "print(\"Scalar-Vector Multiplication: \", Scaler_Vec)\n"
      ],
      "metadata": {
        "colab": {
          "base_uri": "https://localhost:8080/"
        },
        "id": "lQB_hnzwYn9Y",
        "outputId": "867eaab7-b00d-4222-e5fa-3e8d64514510"
      },
      "execution_count": 15,
      "outputs": [
        {
          "output_type": "stream",
          "name": "stdout",
          "text": [
            "Scalar-Vector Multiplication:  [603 720  90]\n"
          ]
        }
      ]
    },
    {
      "cell_type": "code",
      "source": [
        "# ✅ 3️⃣ Dot Product (Inner Product): a⋅b = a1⋅b1 + a2⋅b2 + ... + an⋅bn\n",
        "# 📌 Why Important?\n",
        "#       --> Used in Neural Networks: Computes activation values.\n",
        "#       --> Cosine Similarity in NLP: Measures word similarity.\n",
        "#       --> PCA (Dimensionality Reduction): Projection of vectors.\n",
        "\n",
        "dot_product = np.dot(a, b)\n",
        "print(\"Dot Product: \", dot_product)"
      ],
      "metadata": {
        "colab": {
          "base_uri": "https://localhost:8080/"
        },
        "id": "_uFX6YX4Z1JN",
        "outputId": "9654f077-3eaa-46d4-8d4b-adb059de049e"
      },
      "execution_count": 16,
      "outputs": [
        {
          "output_type": "stream",
          "name": "stdout",
          "text": [
            "Dot Product:  7013\n"
          ]
        }
      ]
    },
    {
      "cell_type": "code",
      "source": [
        "# ✅ 4️⃣ Cross Product (Only for 3D Vectors): he cross product finds a vector perpendicular to both input vectors.\n",
        "# 𝑎×𝑏 = [[𝑖, 𝑗, 𝑘],\n",
        "#        [𝑎1, 𝑎2, 𝑎3],\n",
        "#         [𝑏1, 𝑏2, 𝑏3]]\n",
        "# 📌 Why Important?\n",
        "#       --> Used in Computer Vision (Finding Normal Vectors).\n",
        "#       --> Used in Robotics for Force & Torque Calculation.\n",
        "\n",
        "Vec_Cross = np.cross(a, b)\n",
        "print(\"Cross Product: \", Vec_Cross)"
      ],
      "metadata": {
        "colab": {
          "base_uri": "https://localhost:8080/"
        },
        "id": "SA7o2Xt_azcV",
        "outputId": "b115ac9c-5cf4-4aab-ad9d-3f25434eeb46"
      },
      "execution_count": 17,
      "outputs": [
        {
          "output_type": "stream",
          "name": "stdout",
          "text": [
            "Cross Product:  [ 2390 -1020 -7853]\n"
          ]
        }
      ]
    },
    {
      "cell_type": "code",
      "source": [
        "# ✅ 5️⃣ Norm (Magnitude of a Vector): ∣∣a∣∣= √ (a1^2 + a2^2 + ..... + an^2)\n",
        "#📌 Why Important?\n",
        "#      -->  Used in Gradient Descent (Weight Updates).\n",
        "#      -->  Normalization in Deep Learning (Feature Scaling).\n",
        "\n",
        "norm_a = np.linalg.norm(a)\n",
        "print(\"Vector Norm (Magnitude):\", norm_a)\n",
        "\n"
      ],
      "metadata": {
        "colab": {
          "base_uri": "https://localhost:8080/"
        },
        "id": "Hag0Kl6YdA19",
        "outputId": "fd92c7cc-e3b2-42c8-f025-f68198415ac6"
      },
      "execution_count": 18,
      "outputs": [
        {
          "output_type": "stream",
          "name": "stdout",
          "text": [
            "Vector Norm (Magnitude): 104.82843125793688\n"
          ]
        }
      ]
    }
  ]
}